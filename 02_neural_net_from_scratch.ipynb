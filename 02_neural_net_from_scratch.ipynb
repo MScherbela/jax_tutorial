{
 "cells": [
  {
   "cell_type": "markdown",
   "metadata": {
    "pycharm": {
     "name": "#%% md\n"
    }
   },
   "source": [
    "Building a Neural Network from scratch\n",
    "======================================\n",
    "\n",
    "In this example we will build a simple neural network using JAX to predict the atomization energies of small molecules from the QM7 dataset.\n",
    "The key steps will be:\n",
    "- Define a model (which in this case takes as input a geometry and returns a predicted energy)\n",
    "- Define a loss\n",
    "- Define and run an optimizer that minimizes this loss\n",
    "\n",
    "We will see, that even when writing it from scratch, it's no more than a few lines of code.\n",
    "We first import some basic libraries:"
   ]
  },
  {
   "cell_type": "code",
   "execution_count": 1,
   "metadata": {
    "pycharm": {
     "name": "#%%\n"
    }
   },
   "outputs": [],
   "source": [
    "import numpy as np\n",
    "import jax.numpy as jnp\n",
    "import matplotlib.pyplot as plt\n",
    "import jax\n",
    "from data_loader import load_qm7, make_batches\n",
    "np.random.seed(1234)"
   ]
  },
  {
   "cell_type": "markdown",
   "metadata": {
    "pycharm": {
     "name": "#%% md\n"
    }
   },
   "source": [
    "We load the dataset, shuffle it and split it into a (larger) training set and a (smaller) testing set."
   ]
  },
  {
   "cell_type": "code",
   "execution_count": 2,
   "metadata": {
    "pycharm": {
     "name": "#%%\n"
    }
   },
   "outputs": [
    {
     "name": "stdout",
     "output_type": "stream",
     "text": [
      "X_train.shape=(6500, 23, 23); X_test.shape=(665, 23, 23)\n",
      "y_train.shape=(6500,); y_test.shape=(665,)\n",
      "Energies: (-1537.1790771484375 +- 223.4197235107422) kcal/mol\n"
     ]
    },
    {
     "data": {
      "text/plain": [
       "Text(0.5, 0, 'atomization energy [kcal/mol]')"
      ]
     },
     "execution_count": 2,
     "metadata": {},
     "output_type": "execute_result"
    },
    {
     "data": {
      "image/png": "[encoded data removed]",
      "text/plain": [
       "<Figure size 432x288 with 1 Axes>"
      ]
     },
     "metadata": {
      "needs_background": "light"
     },
     "output_type": "display_data"
    }
   ],
   "source": [
    "X_train, y_train, X_test, y_test = load_qm7(n_train=6500)\n",
    "mean_y = np.mean(y_train)\n",
    "scale_y = np.std(y_train)\n",
    "print(f\"{X_train.shape=}; {X_test.shape=}\")\n",
    "print(f\"{y_train.shape=}; {y_test.shape=}\")\n",
    "print(f\"Energies: ({mean_y} +- {scale_y}) kcal/mol\")\n",
    "plt.figure()\n",
    "plt.hist(y_train, bins=20, label=\"Train\")\n",
    "plt.hist(y_test, bins=20, label=\"Test\")\n",
    "plt.legend()\n",
    "plt.title(\"Distribution of energies\")\n",
    "plt.xlabel(\"atomization energy [kcal/mol]\")"
   ]
  },
  {
   "cell_type": "markdown",
   "metadata": {
    "pycharm": {
     "name": "#%% md\n"
    }
   },
   "source": [
    "Our model will consist of two parts:\n",
    "1. **Calculating feature vectors** from the raw input\n",
    "2. **Applying a multi-layer-perceptron** to the obtained features\n",
    "\n",
    "For the feature vectors we follow the approach proposed by Rupp et al. in 2012: We compute the eigvalues of the Coulomb matrix $C$:\n",
    "\n",
    "$$C_{ii} = \\frac{1}{2}Z_i^{2.4} \\qquad C_{ij} = \\frac{Z_i Z_j}{|R_i - R_j|}$$\n",
    "\n",
    "\n",
    "The multi-layer perceptron consists of multiple rounds of a linear transformation and a non-linear function:\n",
    "$$x_{n+1} = \\sigma(x_n W_n + b_n)$$"
   ]
  },
  {
   "cell_type": "code",
   "execution_count": 3,
   "metadata": {
    "pycharm": {
     "name": "#%%\n"
    }
   },
   "outputs": [],
   "source": [
    "def calculate_input_features(x):\n",
    "    return jnp.linalg.eigvalsh(x)\n",
    "\n",
    "def mlp(params, x):\n",
    "    for ind_layer, (weights, bias) in enumerate(params):\n",
    "        x = x @ weights + bias\n",
    "        if ind_layer != (len(params) - 1):\n",
    "            x = jax.nn.relu(x)\n",
    "    return x\n",
    "\n",
    "def model(params, x):\n",
    "    x = calculate_input_features(x)\n",
    "    y = mlp(params, x)\n",
    "    y = y * scale_y + mean_y\n",
    "    return y.flatten()\n",
    "\n",
    "def init_mlp(n_neurons, input_dim, output_dim):\n",
    "    dims_in = [input_dim] + n_neurons\n",
    "    dims_out = n_neurons + [output_dim]\n",
    "    params = []\n",
    "    for dim_in, dim_out in zip(dims_in, dims_out):\n",
    "        w_init = np.random.normal(loc=0, scale=2/(dim_in + dim_out), size=(dim_in, dim_out))\n",
    "        b_init = np.zeros(shape=(dim_out,))\n",
    "        params.append((w_init, b_init))\n",
    "    return params"
   ]
  },
  {
   "cell_type": "markdown",
   "metadata": {
    "pycharm": {
     "name": "#%% md\n"
    }
   },
   "source": [
    "To optimize the model, we need to define a loss. For this task, we will use the standard mean square error:"
   ]
  },
  {
   "cell_type": "code",
   "execution_count": 4,
   "metadata": {
    "pycharm": {
     "name": "#%%\n"
    }
   },
   "outputs": [],
   "source": [
    "# Define a loss function and an optimizer / training-step\n",
    "def loss_func(params, x, y_target):\n",
    "    y_pred = model(params, x)\n",
    "    residual = (y_pred - y_target) / scale_y\n",
    "    return jnp.mean(residual**2)\n"
   ]
  },
  {
   "cell_type": "markdown",
   "metadata": {
    "pycharm": {
     "name": "#%% md\n"
    }
   },
   "source": [
    "To optimize the model we will use plain stochastic gradient descent with learning rate $\\eta$ to update our parameters $\\theta$:\n",
    "\n",
    "$$\\theta_{t+1} = \\theta_t - \\eta \\nabla_\\theta \\mathcal{L_t}$$"
   ]
  },
  {
   "cell_type": "code",
   "execution_count": 5,
   "metadata": {
    "pycharm": {
     "name": "#%%\n"
    }
   },
   "outputs": [],
   "source": [
    "@jax.jit # equivalent to training_step = jax.jit(training_step)\n",
    "def training_step(params, batch, learning_rate):\n",
    "    x, y_target = batch\n",
    "    loss, grad = jax.value_and_grad(loss_func, argnums=0)(params, x, y_target)\n",
    "\n",
    "    # Because the grad and params are nested data structures we cannot directly work with them\n",
    "    # (e.g. new_params = params - learning_rate * grad), but need to\n",
    "    param_update = jax.tree_map(lambda g: -learning_rate * g, grad)\n",
    "    new_params = jax.tree_map(jnp.add, params, param_update)\n",
    "    return loss, new_params"
   ]
  },
  {
   "cell_type": "markdown",
   "metadata": {
    "pycharm": {
     "name": "#%% md\n"
    }
   },
   "source": [
    "During and after the training we will want to evaluate our models performance, by applying it to some data and computing the mean absolute error to the ground truth:"
   ]
  },
  {
   "cell_type": "code",
   "execution_count": 6,
   "metadata": {
    "pycharm": {
     "name": "#%%\n"
    }
   },
   "outputs": [],
   "source": [
    "@jax.jit\n",
    "def evaluate_model(params, X, y_target):\n",
    "    y_pred = model(params, X)\n",
    "    return y_pred, jnp.mean(jnp.abs(y_pred - y_target))\n"
   ]
  },
  {
   "cell_type": "markdown",
   "metadata": {
    "pycharm": {
     "name": "#%% md\n"
    }
   },
   "source": [
    "The training loop consists of two nested loops:\n",
    "- The outer loop runs over epochs. One epoch means having seen each sample in the training set once\n",
    "- The inner loop runs over batches within the epoch: We split the whole training set into smaller, randomly selected batches to obtain cheaper/faster gradients"
   ]
  },
  {
   "cell_type": "code",
   "execution_count": 7,
   "metadata": {
    "pycharm": {
     "name": "#%%\n"
    }
   },
   "outputs": [
    {
     "name": "stderr",
     "output_type": "stream",
     "text": [
      "WARNING:absl:No GPU/TPU found, falling back to CPU. (Set TF_CPP_MIN_LOG_LEVEL=0 and rerun for more info.)\n"
     ]
    },
    {
     "name": "stdout",
     "output_type": "stream",
     "text": [
      "epoch=0  , mae_train=173.2 kcal/mol, mae_test=175.9 kcal/mol\n",
      "epoch=5  , mae_train=128.2 kcal/mol, mae_test=132.4 kcal/mol\n",
      "epoch=10 , mae_train=162.9 kcal/mol, mae_test=165.3 kcal/mol\n",
      "epoch=15 , mae_train=110.0 kcal/mol, mae_test=114.2 kcal/mol\n",
      "epoch=20 , mae_train=121.8 kcal/mol, mae_test=125.8 kcal/mol\n",
      "epoch=25 , mae_train=146.9 kcal/mol, mae_test=149.9 kcal/mol\n",
      "epoch=30 , mae_train=105.8 kcal/mol, mae_test=110.3 kcal/mol\n",
      "epoch=35 , mae_train=101.0 kcal/mol, mae_test=106.0 kcal/mol\n",
      "epoch=40 , mae_train=104.0 kcal/mol, mae_test=109.4 kcal/mol\n",
      "epoch=45 , mae_train=104.0 kcal/mol, mae_test=108.5 kcal/mol\n",
      "Mean absolute error (MAE) on training set: 101.3 kcal/mol\n",
      "Mean absolute error (MAE) on test set   : 106.1 kcal/mol\n"
     ]
    }
   ],
   "source": [
    "# Initialize the network and run the actual training\n",
    "n_neurons_per_layer = [50, 50, 20]\n",
    "learning_rate = 0.01\n",
    "n_batches = 100\n",
    "n_epochs = 50\n",
    "params = init_mlp(n_neurons_per_layer, input_dim=X_train.shape[-1], output_dim=1)\n",
    "params_averaged = params\n",
    "\n",
    "mae_test = np.zeros(n_epochs)\n",
    "mae_train = np.zeros(n_epochs)\n",
    "loss = np.zeros(n_epochs * n_batches)\n",
    "ind_step = 0\n",
    "for ind_epoch in range(n_epochs):\n",
    "    for batch in make_batches(X_train, y_train, n_batches):\n",
    "        loss[ind_step], params = training_step(params, batch, learning_rate)\n",
    "        ind_step += 1\n",
    "    y_pred_train, mae_train[ind_epoch] = evaluate_model(params, X_train, y_train)\n",
    "    y_pred_test, mae_test[ind_epoch] = evaluate_model(params, X_test, y_test)\n",
    "    if (ind_epoch % 5) == 0:\n",
    "        print(f\"epoch={ind_epoch:<3d}, mae_train={mae_train[ind_epoch]:.1f} kcal/mol, mae_test={mae_test[ind_epoch]:.1f} kcal/mol\")\n",
    "\n",
    "# Analyze final model\n",
    "print(f\"Mean absolute error (MAE) on training set: {mae_train[-1]:.1f} kcal/mol\")\n",
    "print(f\"Mean absolute error (MAE) on test set   : {mae_test[-1]:.1f} kcal/mol\")"
   ]
  },
  {
   "cell_type": "markdown",
   "metadata": {
    "pycharm": {
     "name": "#%% md\n"
    }
   },
   "source": [
    "After training we can plot the learning curves, as well as a scatter plot of our final model's performance:"
   ]
  },
  {
   "cell_type": "code",
   "execution_count": null,
   "metadata": {
    "pycharm": {
     "name": "#%%\n"
    }
   },
   "outputs": [],
   "source": [
    "plt.close(\"all\")\n",
    "fig, axes = plt.subplots(1,3, dpi=100, figsize=(10,8))\n",
    "axes[0].semilogy(loss)\n",
    "axes[0].set_title(\"Training loss\")\n",
    "\n",
    "axes[1].plot(mae_train, label=\"Train\")\n",
    "axes[1].plot(mae_test, label=\"Test\")\n",
    "axes[1].set_title(\"Mean absolute error [kcal/mol]\")\n",
    "axes[1].legend()\n",
    "\n",
    "axes[2].scatter(y_train, y_pred_train, label=\"Train\")\n",
    "axes[2].scatter(y_test, y_pred_test, label=\"Test\")\n",
    "axes[2].legend()\n",
    "axes[2].set_xlabel(\"Ground truth [kcal/mol]\")\n",
    "axes[2].set_ylabel(\"Predicted [kcal/mol]\")\n",
    "axes[2].plot([-2000, -500], [-2000, -500], color='gray', ls='--')"
   ]
  }
 ],
 "metadata": {
  "kernelspec": {
   "display_name": "Python 3 (ipykernel)",
   "language": "python",
   "name": "python3"
  },
  "language_info": {
   "codemirror_mode": {
    "name": "ipython",
    "version": 3
   },
   "file_extension": ".py",
   "mimetype": "text/x-python",
   "name": "python",
   "nbconvert_exporter": "python",
   "pygments_lexer": "ipython3",
   "version": "3.8.11"
  }
 },
 "nbformat": 4,
 "nbformat_minor": 1
}
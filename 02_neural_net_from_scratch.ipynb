{
 "cells": [
  {
   "cell_type": "code",
   "execution_count": 41,
   "metadata": {
    "collapsed": true
   },
   "outputs": [
    {
     "name": "stdout",
     "output_type": "stream",
     "text": [
      "X_train.shape=(6000, 23, 23); X_test.shape=(1165, 23, 23)\n",
      "y_train.shape=(6000,); y_test.shape=(1165,)\n"
     ]
    },
    {
     "data": {
      "text/plain": "(array([  93.,  526., 1235., 1970., 1463.,  544.,  126.,   31.,    9.,\n           3.]),\n array([-2192.   , -2013.288, -1834.576, -1655.864, -1477.152, -1298.44 ,\n        -1119.728,  -941.016,  -762.304,  -583.592,  -404.88 ],\n       dtype=float32),\n <BarContainer object of 10 artists>)"
     },
     "execution_count": 41,
     "metadata": {},
     "output_type": "execute_result"
    },
    {
     "data": {
      "text/plain": "<Figure size 432x288 with 1 Axes>",
      "image/png": "[encoded data removed]"
     },
     "metadata": {
      "needs_background": "light"
     },
     "output_type": "display_data"
    }
   ],
   "source": [
    "import numpy as np\n",
    "import jax.numpy as jnp\n",
    "import matplotlib.pyplot as plt\n",
    "import jax\n",
    "\n",
    "data = np.load(\"data/qm7.npz\")\n",
    "X_train, X_test = np.split(data['X'], [6000])\n",
    "y_train, y_test = np.split(data['T'].flatten(), [6000])\n",
    "print(f\"{X_train.shape=}; {X_test.shape=}\")\n",
    "print(f\"{y_train.shape=}; {y_test.shape=}\")\n",
    "\n",
    "plt.figure()\n",
    "plt.hist(y_train)"
   ]
  },
  {
   "cell_type": "code",
   "execution_count": 46,
   "outputs": [
    {
     "name": "stdout",
     "output_type": "stream",
     "text": [
      "epoch 0  , loss = 123812.9\n",
      "epoch 1  , loss = 51735.0\n",
      "epoch 2  , loss = 53442.1\n",
      "epoch 3  , loss = 60106.2\n",
      "epoch 4  , loss = 53295.6\n",
      "epoch 5  , loss = 42574.0\n",
      "epoch 6  , loss = 44195.7\n",
      "epoch 7  , loss = 38861.8\n",
      "epoch 8  , loss = 37223.3\n",
      "epoch 9  , loss = 49549.5\n",
      "epoch 10 , loss = 37322.9\n",
      "epoch 11 , loss = 44548.0\n",
      "epoch 12 , loss = 74957.3\n",
      "epoch 13 , loss = 44815.6\n",
      "epoch 14 , loss = 48902.9\n",
      "epoch 15 , loss = 55335.9\n",
      "epoch 16 , loss = 69338.5\n",
      "epoch 17 , loss = 50292.9\n",
      "epoch 18 , loss = 39181.1\n",
      "epoch 19 , loss = 62824.8\n"
     ]
    }
   ],
   "source": [
    "def mlp(params, x):\n",
    "    for ind_layer, (weights, bias) in enumerate(params):\n",
    "        x = x @ weights + bias\n",
    "        if ind_layer != (len(params) - 1):\n",
    "            x = jnp.tanh(x)\n",
    "    return x\n",
    "\n",
    "def init_mlp(n_neurons, input_dim):\n",
    "    params = []\n",
    "    for ind_layer in range(len(n_neurons)):\n",
    "        if ind_layer == 0:\n",
    "            dim_in = input_dim\n",
    "        else:\n",
    "            dim_in = n_neurons[ind_layer-1]\n",
    "        dim_out = n_neurons[ind_layer]\n",
    "\n",
    "        w_init = np.random.normal(loc=0, scale=2/(dim_in + dim_out), size=(dim_in, dim_out))\n",
    "        b_init = np.zeros(shape=(dim_out,))\n",
    "        params.append((w_init, b_init))\n",
    "    return params\n",
    "\n",
    "def model(params, x):\n",
    "    x = jnp.linalg.eigvalsh(x)\n",
    "    x = jnp.sort(x, axis=-1)\n",
    "    y = mlp(params, x)\n",
    "    return y.flatten()\n",
    "\n",
    "def loss_func(params, x, y_target):\n",
    "    y_pred = model(params, x)\n",
    "    residual = y_pred - y_target\n",
    "    return jnp.mean(residual**2)\n",
    "\n",
    "@jax.jit\n",
    "def training_step(params, x, y_target, learning_rate):\n",
    "    loss, grad = jax.value_and_grad(loss_func, argnums=0)(params, x, y_target)\n",
    "    param_update = jax.tree_map(lambda g: -learning_rate * g, grad)\n",
    "    new_params = jax.tree_map(jnp.add, params, param_update)\n",
    "    return loss, new_params\n",
    "\n",
    "def make_batches(x, y, n_batches):\n",
    "    indices = np.random.permutation(len(x))\n",
    "    x = x[indices]\n",
    "    y = y[indices]\n",
    "    return np.split(x, n_batches), np.split(y, n_batches)\n",
    "\n",
    "n_neurons_per_layer = [500, 500, 200, 100, 1]\n",
    "learning_rate = 1e-4\n",
    "params = init_mlp(n_neurons_per_layer, input_dim=X_train.shape[-1])\n",
    "\n",
    "loss_values = []\n",
    "for n_epoch in range(20):\n",
    "    batches_x, batches_y = make_batches(X_train, y_train, 100)\n",
    "    for batch_x, batch_y in zip(batches_x, batches_y):\n",
    "        loss, params = training_step(params, batch_x, batch_y, learning_rate)\n",
    "        loss_values.append(loss)\n",
    "    print(f\"epoch {n_epoch:<3d}, loss = {loss:.1f}\")"
   ],
   "metadata": {
    "collapsed": false,
    "pycharm": {
     "name": "#%%\n"
    }
   }
  },
  {
   "cell_type": "code",
   "execution_count": 48,
   "outputs": [
    {
     "data": {
      "text/plain": "Text(0, 0.5, 'Predicted [kcal/mol]')"
     },
     "execution_count": 48,
     "metadata": {},
     "output_type": "execute_result"
    },
    {
     "data": {
      "text/plain": "<Figure size 432x288 with 0 Axes>"
     },
     "metadata": {},
     "output_type": "display_data"
    },
    {
     "data": {
      "text/plain": "<Figure size 432x288 with 2 Axes>",
      "image/png": "[encoded data removed]"
     },
     "metadata": {
      "needs_background": "light"
     },
     "output_type": "display_data"
    }
   ],
   "source": [
    "y_test_predicted = model(params, X_test)\n",
    "\n",
    "plt.figure()\n",
    "fig, axes = plt.subplots(1,2)\n",
    "axes[0].semilogy(loss_values)\n",
    "axes[1].scatter(y_test, y_test_predicted)\n",
    "axes[1].set_xlabel(\"Ground truth [kcal/mol]\")\n",
    "axes[1].set_ylabel(\"Predicted [kcal/mol]\")\n",
    "\n",
    "\n",
    "\n",
    "\n",
    "\n",
    "\n",
    "\n",
    "\n",
    "\n"
   ],
   "metadata": {
    "collapsed": false,
    "pycharm": {
     "name": "#%%\n"
    }
   }
  }
 ],
 "metadata": {
  "kernelspec": {
   "display_name": "Python 3",
   "language": "python",
   "name": "python3"
  },
  "language_info": {
   "codemirror_mode": {
    "name": "ipython",
    "version": 2
   },
   "file_extension": ".py",
   "mimetype": "text/x-python",
   "name": "python",
   "nbconvert_exporter": "python",
   "pygments_lexer": "ipython2",
   "version": "2.7.6"
  }
 },
 "nbformat": 4,
 "nbformat_minor": 0
}